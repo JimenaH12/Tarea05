{
 "cells": [
  {
   "cell_type": "markdown",
   "id": "49878a89-1ab0-486e-acd9-6594aabfd814",
   "metadata": {},
   "source": [
    "<h1>Parte I: Integrales</h1> "
   ]
  },
  {
   "cell_type": "markdown",
   "id": "b58906ba-cbdc-4b24-93a8-e6dd82b858b3",
   "metadata": {},
   "source": [
    "Se requiere evaluar la siguiente integral con diferentes métodos"
   ]
  },
  {
   "cell_type": "markdown",
   "id": "6c9ec5b6-7b03-40d7-8d70-f2360cca49ff",
   "metadata": {},
   "source": [
    "$$ I = \\int_{-1}^{1}dx[x^{4}+sin^{2}(x)] $$"
   ]
  },
  {
   "cell_type": "code",
   "execution_count": 1,
   "id": "79b69b42-c32e-4342-aabf-9ec98b38e3f5",
   "metadata": {},
   "outputs": [
    {
     "name": "stdout",
     "output_type": "stream",
     "text": [
      "Valor analítico de la integral: 0.9453512865871592\n"
     ]
    }
   ],
   "source": [
    "import numpy as np\n",
    "import matplotlib.pyplot as plt\n",
    "from scipy.integrate import quad, trapezoid, simpson\n",
    "from scipy.special import legendre\n",
    "from numpy.polynomial.legendre import leggauss\n",
    "\n",
    "def f(x):\n",
    "    return x**4 + np.sin(x)**2\n",
    "\n",
    "I_analytic, _ = quad(f,-1,1)\n",
    "print(f\"Valor analítico de la integral: {I_analytic}\")"
   ]
  },
  {
   "cell_type": "markdown",
   "id": "bc4d8f83-6396-44d1-bc1d-7db42f42f6bc",
   "metadata": {},
   "source": [
    "<h3>Sumas de Riemann</h3>"
   ]
  },
  {
   "cell_type": "code",
   "execution_count": 2,
   "id": "d48f022c-b909-4208-9176-258a7d85287e",
   "metadata": {},
   "outputs": [],
   "source": [
    "def riemann_sum(f, a, b, N):\n",
    "    x = np.linspace(a, b, N)\n",
    "    dx = (b-a) / (N-1)\n",
    "    return np.sum(f(x[:-1]) * dx)"
   ]
  },
  {
   "cell_type": "markdown",
   "id": "427fca09-2426-406d-9ece-f4b133fc79a2",
   "metadata": {},
   "source": [
    "<h3>Regla de Trapezoide</h3>"
   ]
  },
  {
   "cell_type": "code",
   "execution_count": 3,
   "id": "87b99c50-2b1a-4c77-bcf1-510302172bcf",
   "metadata": {},
   "outputs": [],
   "source": [
    "def trapezoid_rule(f, a, b, N):\n",
    "    x = np.linspace(a, b, N)\n",
    "    y = f(x)\n",
    "    return trapezoid(y, x)"
   ]
  },
  {
   "cell_type": "markdown",
   "id": "dd801324-6262-4ac6-9863-66f3d9874b58",
   "metadata": {},
   "source": [
    "<h3>Regla de Simpson</h3>"
   ]
  },
  {
   "cell_type": "code",
   "execution_count": 4,
   "id": "901222a8-5bb0-438c-8c77-1a235de9c561",
   "metadata": {},
   "outputs": [],
   "source": [
    "def simpson_rule(f, a, b, N):\n",
    "    x = np.linspace(a, b, N)\n",
    "    y = f(x)\n",
    "    return simpson(y, x)"
   ]
  },
  {
   "cell_type": "markdown",
   "id": "658df5cf-f289-4307-9030-71e2e45e07f3",
   "metadata": {},
   "source": [
    "<h3>Cuadratura de Gauss</h3>"
   ]
  },
  {
   "cell_type": "code",
   "execution_count": 5,
   "id": "f675fee2-ca44-4d29-9580-0588076c3ec4",
   "metadata": {},
   "outputs": [],
   "source": [
    "#def leggauss(N):\n",
    "    #x, w = np.polynomial.legendre.leggauss(N)\n",
    "    #return x, w\n",
    "\n",
    "def gaussxw(f, a, b, N):\n",
    "    [x, w] = leggauss(N)\n",
    "    x_mapped = 0.5 * (x + 1) * (b - a) + a\n",
    "    w_mapped = 0.5 * (b - a) * w\n",
    "    G = np.sum(w_mapped * f(x_mapped))\n",
    "    return G"
   ]
  },
  {
   "cell_type": "code",
   "execution_count": 6,
   "id": "e7007a82-bc79-4393-8e90-4072e5cc64e4",
   "metadata": {},
   "outputs": [],
   "source": [
    "N_values = np.arange(10, 101, 10)"
   ]
  },
  {
   "cell_type": "code",
   "execution_count": 7,
   "id": "0f1e5cc2-bb3d-4391-8422-6b30a43d62d6",
   "metadata": {},
   "outputs": [],
   "source": [
    "errors_riemann = []\n",
    "errors_trapezoid = []\n",
    "errors_simpson = []\n",
    "errors_gauss = []\n",
    "\n",
    "for N in N_values:\n",
    "    I_riemann = riemann_sum(f, -1, 1, N)\n",
    "    I_trapezoid = trapezoid_rule(f, -1, 1, N)\n",
    "    I_simpson = simpson_rule(f, -1, 1, N)\n",
    "    I_gauss = gaussxw(f, -1, 1, N)\n",
    "    \n",
    "    errors_riemann.append(abs((I_riemann - I_analytic) / I_analytic))\n",
    "    errors_trapezoid.append(abs((I_trapezoid - I_analytic) / I_analytic))\n",
    "    errors_simpson.append(abs((I_simpson - I_analytic) / I_analytic))\n",
    "    errors_gauss.append(abs((I_gauss - I_analytic) / I_analytic))"
   ]
  },
  {
   "cell_type": "markdown",
   "id": "1be0dcc9-f4f2-4937-b2db-ec5990ebcd54",
   "metadata": {},
   "source": [
    "<h3>Gráfico</h3>"
   ]
  },
  {
   "cell_type": "code",
   "execution_count": 8,
   "id": "72b30635-b5f7-48ab-a521-cbe0452aff64",
   "metadata": {},
   "outputs": [
    {
     "ename": "NameError",
     "evalue": "name 'figsize' is not defined",
     "output_type": "error",
     "traceback": [
      "\u001b[0;31m---------------------------------------------------------------------------\u001b[0m",
      "\u001b[0;31mNameError\u001b[0m                                 Traceback (most recent call last)",
      "Cell \u001b[0;32mIn[8], line 1\u001b[0m\n\u001b[0;32m----> 1\u001b[0m plt\u001b[38;5;241m.\u001b[39mfigure(\u001b[43mfigsize\u001b[49m(\u001b[38;5;241m10\u001b[39m, \u001b[38;5;241m6\u001b[39m))\n\u001b[1;32m      3\u001b[0m plt\u001b[38;5;241m.\u001b[39msemilogy(N_values, errors_riemann, label\u001b[38;5;241m=\u001b[39m\u001b[38;5;124m\"\u001b[39m\u001b[38;5;124mSumas de Riemann\u001b[39m\u001b[38;5;124m\"\u001b[39m)\n\u001b[1;32m      4\u001b[0m plt\u001b[38;5;241m.\u001b[39msemilogy(N_values, errors_trapezoid, label\u001b[38;5;241m=\u001b[39m\u001b[38;5;124m\"\u001b[39m\u001b[38;5;124mRegla de Trapezoides\u001b[39m\u001b[38;5;124m\"\u001b[39m)\n",
      "\u001b[0;31mNameError\u001b[0m: name 'figsize' is not defined"
     ]
    }
   ],
   "source": [
    "plt.figure(figsize(10, 6))\n",
    "\n",
    "plt.semilogy(N_values, errors_riemann, label=\"Sumas de Riemann\")\n",
    "plt.semilogy(N_values, errors_trapezoid, label=\"Regla de Trapezoides\")\n",
    "plt.semilogy(N_values, errors_simpson, label=\"Regla de Simpson\")\n",
    "plt.semilogy(N_values, errors_gauss, label=\"Cuadratura de Gauss\")\n",
    "\n",
    "plt.xlabel(\"N\")\n",
    "plt.ylabel(\"Error relativo\")\n",
    "\n",
    "plt.title(\"Error relativo - Diferentes métodos de integración númerica\")\n",
    "\n",
    "plt.legend()\n",
    "plt.grip(True, wich=\"both\", ls=\"--\")\n",
    "plt.show()"
   ]
  }
 ],
 "metadata": {
  "kernelspec": {
   "display_name": "Python 3 (ipykernel)",
   "language": "python",
   "name": "python3"
  },
  "language_info": {
   "codemirror_mode": {
    "name": "ipython",
    "version": 3
   },
   "file_extension": ".py",
   "mimetype": "text/x-python",
   "name": "python",
   "nbconvert_exporter": "python",
   "pygments_lexer": "ipython3",
   "version": "3.12.3"
  }
 },
 "nbformat": 4,
 "nbformat_minor": 5
}
